{
  "nbformat": 4,
  "nbformat_minor": 0,
  "metadata": {
    "colab": {
      "provenance": [],
      "authorship_tag": "ABX9TyOaHUdcVCMPvaHxhE8FLhNy",
      "include_colab_link": true
    },
    "kernelspec": {
      "name": "python3",
      "display_name": "Python 3"
    },
    "language_info": {
      "name": "python"
    }
  },
  "cells": [
    {
      "cell_type": "markdown",
      "metadata": {
        "id": "view-in-github",
        "colab_type": "text"
      },
      "source": [
        "<a href=\"https://colab.research.google.com/github/Kevin2558/Data_Science/blob/main/02_Preprocesamiento/Datos_Temporales.ipynb\" target=\"_parent\"><img src=\"https://colab.research.google.com/assets/colab-badge.svg\" alt=\"Open In Colab\"/></a>"
      ]
    },
    {
      "cell_type": "markdown",
      "source": [
        "# **Preprocesamiento Datos temporales**"
      ],
      "metadata": {
        "id": "UCVBR7ccXA_r"
      }
    },
    {
      "cell_type": "markdown",
      "source": [
        "Extraer información útil desde una variable de tipo fecha/hora, como:\n",
        "\n",
        "- Día del mes\n",
        "- Mes\n",
        "- Año\n",
        "- Día de la semana\n",
        "- ¿Es fin de semana?\n",
        "- ¿Es feriado? (opcional)\n",
        "- Hora del día (si tiene timestamp)"
      ],
      "metadata": {
        "id": "mom6dIubXN73"
      }
    },
    {
      "cell_type": "code",
      "execution_count": 1,
      "metadata": {
        "colab": {
          "base_uri": "https://localhost:8080/"
        },
        "id": "JZHleSGiW7bK",
        "outputId": "d4a5b3aa-a5ca-4bc5-d019-ee121cfdebf8"
      },
      "outputs": [
        {
          "output_type": "stream",
          "name": "stdout",
          "text": [
            "       fecha  ventas   año  mes  día  día_semana  es_fin_semana\n",
            "0 2023-01-01     100  2023    1    1           6              1\n",
            "1 2023-01-02     120  2023    1    2           0              0\n",
            "2 2023-01-03      90  2023    1    3           1              0\n",
            "3 2023-01-04      95  2023    1    4           2              0\n",
            "4 2023-01-05     110  2023    1    5           3              0\n",
            "5 2023-01-06     130  2023    1    6           4              0\n",
            "6 2023-01-07      80  2023    1    7           5              1\n",
            "7 2023-01-08     140  2023    1    8           6              1\n",
            "8 2023-01-09     150  2023    1    9           0              0\n",
            "9 2023-01-10     160  2023    1   10           1              0\n"
          ]
        }
      ],
      "source": [
        "import pandas as pd\n",
        "\n",
        "# Crear un DataFrame con fechas\n",
        "data = {\n",
        "    'fecha': pd.date_range(start='2023-01-01', periods=10, freq='D'),\n",
        "    'ventas': [100, 120, 90, 95, 110, 130, 80, 140, 150, 160]\n",
        "}\n",
        "df = pd.DataFrame(data)\n",
        "\n",
        "# Asegurar que sea datetime\n",
        "df['fecha'] = pd.to_datetime(df['fecha'])\n",
        "\n",
        "# Crear nuevas variables temporales\n",
        "df['año'] = df['fecha'].dt.year\n",
        "df['mes'] = df['fecha'].dt.month\n",
        "df['día'] = df['fecha'].dt.day\n",
        "df['día_semana'] = df['fecha'].dt.dayofweek  # Lunes=0, Domingo=6\n",
        "df['es_fin_semana'] = df['día_semana'].isin([5, 6]).astype(int)\n",
        "\n",
        "print(df)"
      ]
    },
    {
      "cell_type": "markdown",
      "source": [
        "**¿Y si quiero saber si es feriado en Chile?**\n",
        "\n",
        "Puedes usar la librería holidays:"
      ],
      "metadata": {
        "id": "czOxkrkTXgFE"
      }
    },
    {
      "cell_type": "code",
      "source": [
        "!pip install holidays"
      ],
      "metadata": {
        "colab": {
          "base_uri": "https://localhost:8080/"
        },
        "id": "RXW0vJSRXf2x",
        "outputId": "748c4342-9200-4f72-e486-080c2df8bf23"
      },
      "execution_count": 2,
      "outputs": [
        {
          "output_type": "stream",
          "name": "stdout",
          "text": [
            "Requirement already satisfied: holidays in /usr/local/lib/python3.11/dist-packages (0.74)\n",
            "Requirement already satisfied: python-dateutil in /usr/local/lib/python3.11/dist-packages (from holidays) (2.9.0.post0)\n",
            "Requirement already satisfied: six>=1.5 in /usr/local/lib/python3.11/dist-packages (from python-dateutil->holidays) (1.17.0)\n"
          ]
        }
      ]
    },
    {
      "cell_type": "code",
      "source": [
        "import holidays\n",
        "\n",
        "# Feriados en Chile\n",
        "cl_holidays = holidays.Chile()\n",
        "\n",
        "# Columna booleana si es feriado\n",
        "df['es_feriado'] = df['fecha'].isin(cl_holidays).astype(int)\n",
        "\n",
        "print(df[['fecha', 'es_feriado']])"
      ],
      "metadata": {
        "colab": {
          "base_uri": "https://localhost:8080/"
        },
        "id": "QrQmZlz4XAWD",
        "outputId": "4413c14c-1b83-468c-8e81-8f84b8a4963e"
      },
      "execution_count": 3,
      "outputs": [
        {
          "output_type": "stream",
          "name": "stdout",
          "text": [
            "       fecha  es_feriado\n",
            "0 2023-01-01           0\n",
            "1 2023-01-02           0\n",
            "2 2023-01-03           0\n",
            "3 2023-01-04           0\n",
            "4 2023-01-05           0\n",
            "5 2023-01-06           0\n",
            "6 2023-01-07           0\n",
            "7 2023-01-08           0\n",
            "8 2023-01-09           0\n",
            "9 2023-01-10           0\n"
          ]
        }
      ]
    },
    {
      "cell_type": "markdown",
      "source": [
        "**¿Y si tuviera horas?**\n",
        "\n",
        "Si tuvieras timestamps (e.g., 2023-01-01 13:45:00), podrías extraer:"
      ],
      "metadata": {
        "id": "RGpsiM_TXyCW"
      }
    },
    {
      "cell_type": "code",
      "source": [
        "# h horas, t minutos, s segundos\n",
        "fechas = pd.date_range(start='2023-01-01 08:00:00', periods=10, freq='4h23t5s')\n",
        "ventas = [100, 130, 90, 110, 150, 120, 80, 170, 160, 140]\n",
        "\n",
        "df = pd.DataFrame({\n",
        "    'fecha_hora': fechas,\n",
        "    'ventas': ventas\n",
        "})\n",
        "\n",
        "print(df)"
      ],
      "metadata": {
        "colab": {
          "base_uri": "https://localhost:8080/"
        },
        "id": "5AmZsn1yYY8r",
        "outputId": "d0438fb1-9cc1-4128-d887-1829f8ae8cbd"
      },
      "execution_count": 17,
      "outputs": [
        {
          "output_type": "stream",
          "name": "stdout",
          "text": [
            "           fecha_hora  ventas\n",
            "0 2023-01-01 08:00:00     100\n",
            "1 2023-01-01 12:23:05     130\n",
            "2 2023-01-01 16:46:10      90\n",
            "3 2023-01-01 21:09:15     110\n",
            "4 2023-01-02 01:32:20     150\n",
            "5 2023-01-02 05:55:25     120\n",
            "6 2023-01-02 10:18:30      80\n",
            "7 2023-01-02 14:41:35     170\n",
            "8 2023-01-02 19:04:40     160\n",
            "9 2023-01-02 23:27:45     140\n"
          ]
        },
        {
          "output_type": "stream",
          "name": "stderr",
          "text": [
            "<ipython-input-17-1483069122>:1: FutureWarning: 't' is deprecated and will be removed in a future version, please use 'min' instead.\n",
            "  fechas = pd.date_range(start='2023-01-01 08:00:00', periods=10, freq='4h23t5s')\n"
          ]
        }
      ]
    },
    {
      "cell_type": "code",
      "source": [
        "df['año'] = df['fecha_hora'].dt.year\n",
        "df['mes'] = df['fecha_hora'].dt.month\n",
        "df['día'] = df['fecha_hora'].dt.day\n",
        "df['día_semana'] = df['fecha_hora'].dt.dayofweek  # Lunes=0, Domingo=6\n",
        "df['es_fin_semana'] = df['día_semana'].isin([5, 6]).astype(int)\n",
        "df['hora'] = df['fecha_hora'].dt.hour\n",
        "df['minuto'] = df['fecha_hora'].dt.minute\n",
        "df['franja_horaria'] = pd.cut(df['hora'], bins=[0,6,12,18,24],\n",
        "                               labels=['madrugada', 'mañana', 'tarde', 'noche'],\n",
        "                               right=False)\n",
        "print(df)"
      ],
      "metadata": {
        "colab": {
          "base_uri": "https://localhost:8080/"
        },
        "id": "jRxJKzlbXtC-",
        "outputId": "d29a5d3f-a9e9-4fde-fd27-e0a7757aea51"
      },
      "execution_count": 18,
      "outputs": [
        {
          "output_type": "stream",
          "name": "stdout",
          "text": [
            "           fecha_hora  ventas   año  mes  día  día_semana  es_fin_semana  \\\n",
            "0 2023-01-01 08:00:00     100  2023    1    1           6              1   \n",
            "1 2023-01-01 12:23:05     130  2023    1    1           6              1   \n",
            "2 2023-01-01 16:46:10      90  2023    1    1           6              1   \n",
            "3 2023-01-01 21:09:15     110  2023    1    1           6              1   \n",
            "4 2023-01-02 01:32:20     150  2023    1    2           0              0   \n",
            "5 2023-01-02 05:55:25     120  2023    1    2           0              0   \n",
            "6 2023-01-02 10:18:30      80  2023    1    2           0              0   \n",
            "7 2023-01-02 14:41:35     170  2023    1    2           0              0   \n",
            "8 2023-01-02 19:04:40     160  2023    1    2           0              0   \n",
            "9 2023-01-02 23:27:45     140  2023    1    2           0              0   \n",
            "\n",
            "   hora  minuto franja_horaria  \n",
            "0     8       0         mañana  \n",
            "1    12      23          tarde  \n",
            "2    16      46          tarde  \n",
            "3    21       9          noche  \n",
            "4     1      32      madrugada  \n",
            "5     5      55      madrugada  \n",
            "6    10      18         mañana  \n",
            "7    14      41          tarde  \n",
            "8    19       4          noche  \n",
            "9    23      27          noche  \n"
          ]
        }
      ]
    }
  ]
}