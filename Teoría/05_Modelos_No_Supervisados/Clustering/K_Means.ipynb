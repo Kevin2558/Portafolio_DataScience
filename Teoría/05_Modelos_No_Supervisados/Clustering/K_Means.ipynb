{
  "nbformat": 4,
  "nbformat_minor": 0,
  "metadata": {
    "colab": {
      "provenance": []
    },
    "kernelspec": {
      "name": "python3",
      "display_name": "Python 3"
    },
    "language_info": {
      "name": "python"
    }
  },
  "cells": [
    {
      "cell_type": "markdown",
      "source": [
        "# K - Means\n",
        "\n",
        "Como funciona:\n",
        "\n",
        "Inicialmente se tiene un conjunto de datos, luego (por ejemplo) si queremos usar K-Means con 2 cluster (k=2) vamos a partir con 2 centroides elegidos de manera aleatoria (a veces el problema nos puede proporcionar una manera de elegir los centroides iniciales) y se le asignarán los puntos (datos) a cada cluster dependiendo de la cercanía a cada centroide.\n",
        "\n",
        "Una vez termina el proceso de asignación con cada punto se recalculan los centroides tomando el promedio de los puntos en cada cluster y se selecciona un nuevo centroide. Así, se realiza de forma iterativa hasta que se cumpla una cantidad de pasos o respecto a un criterio de parada aplicado al centroide.\n",
        "\n",
        "Obs: La construccion de los grupos a través de K-Means supone clusters esféricos y de tamaño similar. Además es sensible a valores atípicos y a la inicialización, provocando que sea menos eficiente."
      ],
      "metadata": {
        "id": "Qus82H4gDrHK"
      }
    },
    {
      "cell_type": "markdown",
      "source": [
        "Carguemos las librerías necesarias para la realización de este modelo.\n",
        "\n",
        "Vamos a utilizar este dataset que no tiene etiquetas."
      ],
      "metadata": {
        "id": "-zOKdD81ECZG"
      }
    },
    {
      "cell_type": "code",
      "source": [
        "from sklearn.datasets import make_blobs\n",
        "from sklearn.preprocessing import StandardScaler\n",
        "from sklearn.pipeline import Pipeline\n",
        "from sklearn.cluster import KMeans\n",
        "from sklearn.metrics import silhouette_score\n",
        "import matplotlib.pyplot as plt\n",
        "import seaborn as sns\n",
        "import numpy as np"
      ],
      "metadata": {
        "id": "ZeVoSGVWBWL2"
      },
      "execution_count": null,
      "outputs": []
    },
    {
      "cell_type": "markdown",
      "source": [
        "Estilo del gráfico."
      ],
      "metadata": {
        "id": "XAYV4CKoEL20"
      }
    },
    {
      "cell_type": "code",
      "source": [
        "sns.set(style='whitegrid')"
      ],
      "metadata": {
        "id": "Q_VeXpsYB8Jz"
      },
      "execution_count": null,
      "outputs": []
    },
    {
      "cell_type": "markdown",
      "source": [
        "Armado del dataset."
      ],
      "metadata": {
        "id": "qHJcZC4sEOll"
      }
    },
    {
      "cell_type": "code",
      "source": [
        "X, y_true = make_blobs(n_samples=300, centers=4, cluster_std=0.6, random_state=42)"
      ],
      "metadata": {
        "id": "BXD2rzOVCZYw"
      },
      "execution_count": null,
      "outputs": []
    },
    {
      "cell_type": "markdown",
      "source": [
        "Notemos que la seleccion de los grupos depende de la distancia por lo cual es necesario estandarizar los datos."
      ],
      "metadata": {
        "id": "UwO6zXRSEpD0"
      }
    },
    {
      "cell_type": "code",
      "source": [
        "kmeans_pipe = Pipeline([\n",
        "    ('scaler', StandardScaler()),\n",
        "    ('kmeans', KMeans(n_clusters=4, # Numero de clusters\n",
        "                      init='k-means++', # Metodo de inicializacion\n",
        "                      n_init=10, # Numero de reinicios en distintas seeds\n",
        "                      max_iter = 300, # Max iteraciones por ejecucion\n",
        "                      random_state=42))\n",
        "])"
      ],
      "metadata": {
        "id": "BbV66yMXCoHp"
      },
      "execution_count": null,
      "outputs": []
    },
    {
      "cell_type": "markdown",
      "source": [
        "Prediccion (no hay conjunto de entrenamiento por lo que la prediccion se realiza sobre todo el conjunto)."
      ],
      "metadata": {
        "id": "XS_ODkOHEwGr"
      }
    },
    {
      "cell_type": "code",
      "source": [
        "kmeans_labels = kmeans_pipe.fit_predict(X)"
      ],
      "metadata": {
        "id": "mnc03crWD57d"
      },
      "execution_count": null,
      "outputs": []
    },
    {
      "cell_type": "markdown",
      "source": [
        "Observemos las etiquetas predecidas por el modelo."
      ],
      "metadata": {
        "id": "s-L_O1u7Ez_R"
      }
    },
    {
      "cell_type": "code",
      "source": [
        "kmeans_labels"
      ],
      "metadata": {
        "colab": {
          "base_uri": "https://localhost:8080/"
        },
        "id": "43iJXp7XEIA0",
        "outputId": "98c463a1-61e2-42df-ca87-06c02bd8e26e"
      },
      "execution_count": null,
      "outputs": [
        {
          "output_type": "execute_result",
          "data": {
            "text/plain": [
              "array([3, 3, 0, 1, 3, 1, 2, 1, 0, 2, 0, 2, 0, 0, 3, 0, 3, 2, 0, 0, 2, 0,\n",
              "       1, 3, 0, 3, 3, 1, 1, 2, 0, 2, 3, 2, 3, 0, 3, 1, 3, 1, 2, 0, 3, 1,\n",
              "       0, 0, 3, 2, 3, 2, 1, 3, 1, 0, 1, 2, 3, 2, 2, 0, 3, 2, 2, 3, 1, 1,\n",
              "       1, 1, 1, 0, 1, 1, 3, 2, 0, 3, 1, 1, 0, 1, 0, 0, 3, 0, 1, 3, 3, 2,\n",
              "       2, 2, 3, 0, 3, 0, 0, 3, 1, 0, 3, 3, 2, 2, 2, 0, 0, 0, 0, 0, 1, 3,\n",
              "       2, 0, 0, 0, 0, 2, 3, 1, 3, 1, 1, 1, 0, 3, 1, 3, 3, 0, 3, 1, 2, 0,\n",
              "       0, 0, 0, 2, 2, 3, 0, 1, 0, 2, 1, 0, 2, 2, 2, 2, 1, 0, 0, 3, 2, 1,\n",
              "       0, 2, 1, 3, 3, 2, 0, 3, 1, 3, 2, 3, 1, 0, 0, 0, 0, 0, 1, 2, 2, 1,\n",
              "       1, 2, 2, 1, 3, 0, 3, 2, 2, 3, 1, 0, 2, 2, 1, 1, 1, 3, 2, 1, 1, 2,\n",
              "       2, 3, 0, 0, 1, 2, 0, 1, 1, 3, 1, 0, 0, 1, 1, 2, 3, 1, 3, 3, 0, 3,\n",
              "       3, 1, 3, 1, 2, 2, 3, 3, 2, 2, 2, 3, 0, 1, 2, 1, 3, 2, 3, 3, 3, 1,\n",
              "       1, 2, 3, 1, 1, 1, 3, 1, 3, 1, 3, 2, 1, 3, 2, 0, 3, 0, 2, 0, 3, 0,\n",
              "       1, 2, 1, 2, 2, 0, 0, 1, 2, 2, 3, 3, 1, 0, 0, 2, 2, 2, 2, 1, 3, 2,\n",
              "       1, 2, 2, 1, 0, 1, 2, 0, 3, 0, 2, 0, 3, 3], dtype=int32)"
            ]
          },
          "metadata": {},
          "execution_count": 9
        }
      ]
    },
    {
      "cell_type": "markdown",
      "source": [
        "Métrica para ver que tan bien agrupados estan los datos."
      ],
      "metadata": {
        "id": "XTCKeSSRE4Pr"
      }
    },
    {
      "cell_type": "code",
      "source": [
        "silhouette_score(X, kmeans_labels)"
      ],
      "metadata": {
        "colab": {
          "base_uri": "https://localhost:8080/"
        },
        "id": "YuuVin8sFGP8",
        "outputId": "2645a6fc-7bf0-41ae-8ab6-83c92634e967"
      },
      "execution_count": null,
      "outputs": [
        {
          "output_type": "execute_result",
          "data": {
            "text/plain": [
              "np.float64(0.8756469540734731)"
            ]
          },
          "metadata": {},
          "execution_count": 11
        }
      ]
    },
    {
      "cell_type": "markdown",
      "source": [
        "Visualización de los cluster."
      ],
      "metadata": {
        "id": "vO0q578rE7lj"
      }
    },
    {
      "cell_type": "code",
      "source": [
        "plt.figure(figsize=(6,5))\n",
        "plt.scatter(X[:,0], X[:,1], c=kmeans_labels,cmap='tab10')\n",
        "plt.title('K-Means Clustering')\n",
        "plt.show()"
      ],
      "metadata": {
        "colab": {
          "base_uri": "https://localhost:8080/",
          "height": 472
        },
        "id": "EoAM5poLEd3U",
        "outputId": "d036a276-a136-46e9-c2be-a560a9892d2a"
      },
      "execution_count": null,
      "outputs": [
        {
          "output_type": "display_data",
          "data": {
            "text/plain": [
              "<Figure size 600x500 with 1 Axes>"
            ],
            "image/png": "[encoded data removed]"
          },
          "metadata": {}
        }
      ]
    }
  ]
}