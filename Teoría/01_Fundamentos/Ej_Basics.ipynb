{
  "nbformat": 4,
  "nbformat_minor": 0,
  "metadata": {
    "colab": {
      "provenance": [],
      "authorship_tag": "ABX9TyOH7UiX3hDzNvlilXwz31pm",
      "include_colab_link": true
    },
    "kernelspec": {
      "name": "python3",
      "display_name": "Python 3"
    },
    "language_info": {
      "name": "python"
    }
  },
  "cells": [
    {
      "cell_type": "markdown",
      "metadata": {
        "id": "view-in-github",
        "colab_type": "text"
      },
      "source": [
        "<a href=\"https://colab.research.google.com/github/Kevin2558/Data_Science/blob/main/Ej_Basics.ipynb\" target=\"_parent\"><img src=\"https://colab.research.google.com/assets/colab-badge.svg\" alt=\"Open In Colab\"/></a>"
      ]
    },
    {
      "cell_type": "code",
      "execution_count": 21,
      "metadata": {
        "colab": {
          "base_uri": "https://localhost:8080/"
        },
        "id": "ohwG2Jkj6oT8",
        "outputId": "c8c176fc-22a0-4597-feb3-cd07bc6be226"
      },
      "outputs": [
        {
          "output_type": "execute_result",
          "data": {
            "text/plain": [
              "2.0"
            ]
          },
          "metadata": {},
          "execution_count": 21
        }
      ],
      "source": [
        "def conteo_suma(arr,k):\n",
        "  conteo = 0\n",
        "  for i in arr:\n",
        "    for j in arr:\n",
        "      if i + j == k:\n",
        "        conteo += 1\n",
        "  return conteo/2\n",
        "\n",
        "arr = [1, 5, 7, -1, 5]\n",
        "conteo_suma(arr,12)"
      ]
    },
    {
      "cell_type": "code",
      "source": [
        "def conteo_suma2(arr,k):\n",
        "  conteo=0\n",
        "  s = set()\n",
        "  for i in arr:\n",
        "    if k-i in s:\n",
        "      conteo += 1\n",
        "    s.add(i)\n",
        "  return conteo\n",
        "\n",
        "arr = [1, 5, 7, -1, 5]\n",
        "conteo_suma2(arr,6)"
      ],
      "metadata": {
        "colab": {
          "base_uri": "https://localhost:8080/"
        },
        "id": "9xQ1g2pJ9LPb",
        "outputId": "7580f38c-91a8-43b6-b8de-dffc75c350b1"
      },
      "execution_count": 26,
      "outputs": [
        {
          "output_type": "execute_result",
          "data": {
            "text/plain": [
              "3"
            ]
          },
          "metadata": {},
          "execution_count": 26
        }
      ]
    },
    {
      "cell_type": "code",
      "source": [
        "def anagram(st1,st2):\n",
        "  st1 = st1.lower().replace(\" \",\"\")\n",
        "  st2 = st2.lower().replace(\" \",\"\")\n",
        "  if sorted(st1) == sorted(st2):\n",
        "    print(\"Las palabras son anagramas\")\n",
        "  else:\n",
        "    print(\"Las palabras no son anagramas\")\n",
        "\n",
        "anagram(\"Cocacola\",\"la coco  ca\")"
      ],
      "metadata": {
        "colab": {
          "base_uri": "https://localhost:8080/"
        },
        "id": "TgnZXZbRAJdU",
        "outputId": "5565e005-d2d3-4e21-ad3e-3da26682ce99"
      },
      "execution_count": 42,
      "outputs": [
        {
          "output_type": "stream",
          "name": "stdout",
          "text": [
            "Las palabras son anagramas\n"
          ]
        }
      ]
    },
    {
      "cell_type": "code",
      "source": [
        "st = \"Hola como estas\"\n",
        "\" \".join(st.split()[::-1])"
      ],
      "metadata": {
        "colab": {
          "base_uri": "https://localhost:8080/",
          "height": 36
        },
        "id": "hmfLfKACC529",
        "outputId": "572902ee-ec83-467f-ad55-d9cbbf252f72"
      },
      "execution_count": 45,
      "outputs": [
        {
          "output_type": "execute_result",
          "data": {
            "text/plain": [
              "'estas como Hola'"
            ],
            "application/vnd.google.colaboratory.intrinsic+json": {
              "type": "string"
            }
          },
          "metadata": {},
          "execution_count": 45
        }
      ]
    },
    {
      "cell_type": "code",
      "source": [
        "arr2 = [1,3,5,4,2,4,0,4,3,2,1]\n",
        "for i in arr2:\n",
        "  if arr2.count(i) == 1:\n",
        "    print(i)"
      ],
      "metadata": {
        "colab": {
          "base_uri": "https://localhost:8080/"
        },
        "id": "wwvpiUp4FVoy",
        "outputId": "99b312b0-74da-4471-a886-750755260209"
      },
      "execution_count": 56,
      "outputs": [
        {
          "output_type": "stream",
          "name": "stdout",
          "text": [
            "5\n",
            "0\n"
          ]
        }
      ]
    },
    {
      "cell_type": "code",
      "source": [
        "st1 = \"Anita lava la tina\"\n",
        "\n",
        "if st1.lower().replace(\" \",\"\") == st1[::-1].lower().replace(\" \",\"\"):\n",
        "  print(\"Es un palindromo\")\n",
        "else:\n",
        "  print(\"No es un palindromo\")\n",
        "\n",
        "st2 = \"A man, a plan, a canal: Panama\"\n",
        "\"\".join(c.lower() for c in st2 if c.isalnum())"
      ],
      "metadata": {
        "colab": {
          "base_uri": "https://localhost:8080/",
          "height": 53
        },
        "id": "xv9gBO1QI5Cj",
        "outputId": "8e9b2be1-17cf-4f74-95b2-cf1af434a8e7"
      },
      "execution_count": 75,
      "outputs": [
        {
          "output_type": "stream",
          "name": "stdout",
          "text": [
            "Es un palindromo\n"
          ]
        },
        {
          "output_type": "execute_result",
          "data": {
            "text/plain": [
              "'amanaplanacanalpanama'"
            ],
            "application/vnd.google.colaboratory.intrinsic+json": {
              "type": "string"
            }
          },
          "metadata": {},
          "execution_count": 75
        }
      ]
    },
    {
      "cell_type": "code",
      "source": [
        "def sum_dig(num):\n",
        "  suma=0\n",
        "  for i in str(abs(num)):\n",
        "    suma = suma+int(i)\n",
        "  return suma\n",
        "\n",
        "sum_dig(1234)"
      ],
      "metadata": {
        "colab": {
          "base_uri": "https://localhost:8080/"
        },
        "id": "knPSpLIdNVOL",
        "outputId": "d5503436-7740-4aca-b58b-f60fd78042e5"
      },
      "execution_count": 87,
      "outputs": [
        {
          "output_type": "execute_result",
          "data": {
            "text/plain": [
              "10"
            ]
          },
          "metadata": {},
          "execution_count": 87
        }
      ]
    },
    {
      "cell_type": "code",
      "source": [
        "def count_vocals(st3):\n",
        "  for i in \"aeiou\":\n",
        "    print(\"La palabra\",st3,\"tiene\",st3.lower().count(i),\"vocal\",i)\n",
        "\n",
        "count_vocals(\"Hola como estas\")"
      ],
      "metadata": {
        "colab": {
          "base_uri": "https://localhost:8080/"
        },
        "id": "NUFn63VZvGKc",
        "outputId": "d68768af-4f8c-43c2-d49a-6e7a3d343257"
      },
      "execution_count": 8,
      "outputs": [
        {
          "output_type": "stream",
          "name": "stdout",
          "text": [
            "La palabra Hola como estas tiene 2 vocal a\n",
            "La palabra Hola como estas tiene 1 vocal e\n",
            "La palabra Hola como estas tiene 0 vocal i\n",
            "La palabra Hola como estas tiene 3 vocal o\n",
            "La palabra Hola como estas tiene 0 vocal u\n"
          ]
        }
      ]
    },
    {
      "cell_type": "code",
      "source": [],
      "metadata": {
        "colab": {
          "base_uri": "https://localhost:8080/"
        },
        "id": "ACrVrnXQ0bPi",
        "outputId": "2c55aaa9-47bc-40ac-fdae-384b6c76a079"
      },
      "execution_count": 58,
      "outputs": [
        {
          "output_type": "execute_result",
          "data": {
            "text/plain": [
              "0"
            ]
          },
          "metadata": {},
          "execution_count": 58
        }
      ]
    },
    {
      "cell_type": "code",
      "source": [
        "conteo=0\n",
        "for i in range(2,100):\n",
        "  for j in range(2,i):\n",
        "    if i%j==0:\n",
        "      conteo+=1\n",
        "  if conteo==0:\n",
        "    print(i)\n",
        "  conteo=0"
      ],
      "metadata": {
        "colab": {
          "base_uri": "https://localhost:8080/"
        },
        "id": "Xvk7vqr5yLFO",
        "outputId": "073d80fb-ef37-4f2e-ce7a-edf9990a2993"
      },
      "execution_count": 59,
      "outputs": [
        {
          "output_type": "stream",
          "name": "stdout",
          "text": [
            "2\n",
            "3\n",
            "5\n",
            "7\n",
            "11\n",
            "13\n",
            "17\n",
            "19\n",
            "23\n",
            "29\n",
            "31\n",
            "37\n",
            "41\n",
            "43\n",
            "47\n",
            "53\n",
            "59\n",
            "61\n",
            "67\n",
            "71\n",
            "73\n",
            "79\n",
            "83\n",
            "89\n",
            "97\n"
          ]
        }
      ]
    },
    {
      "cell_type": "code",
      "source": [
        "def list_unic(list1):\n",
        "  s = set()\n",
        "  l = []\n",
        "  for i in list1:\n",
        "    if i not in s:\n",
        "      s.add(i)\n",
        "      l.append(i)\n",
        "  print(l)\n",
        "\n",
        "list_unic([1,3,2,3,2,4,5,6,2,4])"
      ],
      "metadata": {
        "colab": {
          "base_uri": "https://localhost:8080/"
        },
        "id": "_Cgynizg2SLy",
        "outputId": "200d5c39-c321-45b0-d766-e7e5535e4f7c"
      },
      "execution_count": 63,
      "outputs": [
        {
          "output_type": "stream",
          "name": "stdout",
          "text": [
            "[1, 3, 2, 4, 5, 6]\n"
          ]
        }
      ]
    },
    {
      "cell_type": "code",
      "source": [
        "# Factorial Iterativo\n",
        "def factorial_iter(n):\n",
        "    res = 1\n",
        "    for i in range(2, n+1):\n",
        "        res *= i\n",
        "    return res\n",
        "\n",
        "# Factorial Recursivo\n",
        "def factorial_rec(n):\n",
        "    return 1 if n == 0 else n * factorial_rec(n - 1)\n",
        "\n",
        "print(factorial_iter(5))\n",
        "print(factorial_rec(5))"
      ],
      "metadata": {
        "colab": {
          "base_uri": "https://localhost:8080/"
        },
        "id": "dzeKad6239oJ",
        "outputId": "e8f803a8-28b6-4cb4-a9d2-616ab19b0daf"
      },
      "execution_count": 67,
      "outputs": [
        {
          "output_type": "stream",
          "name": "stdout",
          "text": [
            "120\n",
            "120\n"
          ]
        }
      ]
    },
    {
      "cell_type": "code",
      "source": [
        "list10 = [1,2,4,5,6,7,9,10,13]\n",
        "for i in range(1,list10[-1]):\n",
        "  if list10.count(i)==0:\n",
        "    print(i)"
      ],
      "metadata": {
        "colab": {
          "base_uri": "https://localhost:8080/"
        },
        "id": "N1wKqpzZ5-Ep",
        "outputId": "185d2edd-6fd0-4035-9b2d-2ca480eec2af"
      },
      "execution_count": 70,
      "outputs": [
        {
          "output_type": "stream",
          "name": "stdout",
          "text": [
            "3\n",
            "8\n",
            "11\n",
            "12\n"
          ]
        }
      ]
    },
    {
      "cell_type": "code",
      "source": [
        "def mcd(a,b):\n",
        "    while b: # No poner nada es asumir que mientras b=!0 se ejecute, toma a b\n",
        "             # como un booleano\n",
        "        a , b = b, a % b\n",
        "    return a\n",
        "\n",
        "# Ejemplo\n",
        "print(mcd(34, 56))"
      ],
      "metadata": {
        "colab": {
          "base_uri": "https://localhost:8080/"
        },
        "id": "iBXtXV777WDT",
        "outputId": "bf1f1775-ce42-4aba-ce59-82b8c724dcec"
      },
      "execution_count": 89,
      "outputs": [
        {
          "output_type": "stream",
          "name": "stdout",
          "text": [
            "2\n"
          ]
        }
      ]
    },
    {
      "cell_type": "code",
      "source": [
        "def gcd(a,b):\n",
        "  while (a%b)!=0:\n",
        "    s=a\n",
        "    a=b\n",
        "    b=s%b\n",
        "  return b\n",
        "\n",
        "gcd(77,56)"
      ],
      "metadata": {
        "colab": {
          "base_uri": "https://localhost:8080/"
        },
        "id": "-5jfrNpN808T",
        "outputId": "09a388fb-1f77-4f96-f023-15d74e39a8be"
      },
      "execution_count": 104,
      "outputs": [
        {
          "output_type": "execute_result",
          "data": {
            "text/plain": [
              "7"
            ]
          },
          "metadata": {},
          "execution_count": 104
        }
      ]
    },
    {
      "cell_type": "code",
      "source": [
        "def num_happ(s):\n",
        "  d=s\n",
        "  while len(str(s))!=1:\n",
        "    sum = 0\n",
        "    for i in str(abs(s)):\n",
        "      sum = sum + int(i)**2\n",
        "    s=sum\n",
        "  if s == 1:\n",
        "    print(d, \"es un numero feliz!\")\n",
        "  else: print(d,\"no es un numero feliz :(\")\n",
        "\n",
        "num_happ(2019)"
      ],
      "metadata": {
        "colab": {
          "base_uri": "https://localhost:8080/"
        },
        "id": "OqoJKdr9-8Dy",
        "outputId": "6fc3832d-21fb-49d6-ffdf-4db303cd0866"
      },
      "execution_count": 118,
      "outputs": [
        {
          "output_type": "stream",
          "name": "stdout",
          "text": [
            "2019 es un numero feliz!\n"
          ]
        }
      ]
    },
    {
      "cell_type": "code",
      "source": [
        "# Interseccion de listas\n",
        "\n",
        "# Podemos intersectar usando & pero primero tenemos que transformar las listas\n",
        "# a conjuntos\n",
        "\n",
        "def intersec(list1,list2):\n",
        "  s1 = set(list1)\n",
        "  s2 = set(list2)\n",
        "  return list(s1&s2)\n",
        "\n",
        "intersec([1,2,5,6,4],[2,1,4])"
      ],
      "metadata": {
        "colab": {
          "base_uri": "https://localhost:8080/"
        },
        "id": "RlBX140FB-AB",
        "outputId": "00534807-0e8c-4911-f5ef-c558ea2070ab"
      },
      "execution_count": 130,
      "outputs": [
        {
          "output_type": "execute_result",
          "data": {
            "text/plain": [
              "[1, 2, 4]"
            ]
          },
          "metadata": {},
          "execution_count": 130
        }
      ]
    }
  ]
}
