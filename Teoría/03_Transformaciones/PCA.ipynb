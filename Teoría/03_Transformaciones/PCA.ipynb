{
  "nbformat": 4,
  "nbformat_minor": 0,
  "metadata": {
    "colab": {
      "provenance": [],
      "authorship_tag": "ABX9TyMv42CaoBcIxmf9UYTZJW7Y",
      "include_colab_link": true
    },
    "kernelspec": {
      "name": "python3",
      "display_name": "Python 3"
    },
    "language_info": {
      "name": "python"
    }
  },
  "cells": [
    {
      "cell_type": "markdown",
      "metadata": {
        "id": "view-in-github",
        "colab_type": "text"
      },
      "source": [
        "<a href=\"https://colab.research.google.com/github/Kevin2558/Data_Science_Borrador/blob/main/03_Transformaciones/PCA.ipynb\" target=\"_parent\"><img src=\"https://colab.research.google.com/assets/colab-badge.svg\" alt=\"Open In Colab\"/></a>"
      ]
    },
    {
      "cell_type": "markdown",
      "source": [
        "# PCA (Análisis de Componentes Principales)\n",
        "\n",
        "Técnica de reducción de dimensionalidad ampliamente utilizada en Ciencia de Datos y ML. Su objetivo principal es transformar un conjunto de variables posiblemente correlacionadas en un nuevo conjunto de variables no correlacionadas, llamadas componentes principales, que capturan la mayor cantidad posible de varianza presente en los datos originales."
      ],
      "metadata": {
        "id": "EtkTmunAB9nw"
      }
    },
    {
      "cell_type": "code",
      "execution_count": null,
      "metadata": {
        "id": "VJROjSevviDh"
      },
      "outputs": [],
      "source": [
        "import matplotlib.pyplot as plt\n",
        "import numpy as np\n",
        "from sklearn.decomposition import PCA\n",
        "from sklearn.preprocessing import StandardScaler"
      ]
    },
    {
      "cell_type": "markdown",
      "source": [
        "Esta vez vamos a generar datos aleatorios para no ir a descargar un dataset."
      ],
      "metadata": {
        "id": "HMBo8FzlCFdj"
      }
    },
    {
      "cell_type": "code",
      "source": [
        "np.random.seed(42)\n",
        "mean = [0,0]\n",
        "cov = [[3,2],[2,2]]\n",
        "X = np.random.multivariate_normal(mean, cov, 100)"
      ],
      "metadata": {
        "id": "kKWhQcjwhraZ"
      },
      "execution_count": null,
      "outputs": []
    },
    {
      "cell_type": "code",
      "source": [
        "X"
      ],
      "metadata": {
        "colab": {
          "base_uri": "https://localhost:8080/"
        },
        "id": "jErnsJ5HiBs6",
        "outputId": "6d90a590-3cae-4dab-ebfd-41a48bca9dfd"
      },
      "execution_count": null,
      "outputs": [
        {
          "output_type": "execute_result",
          "data": {
            "text/plain": [
              "array([[-0.77984256, -0.72503536],\n",
              "       [-1.7109707 , -0.05642284],\n",
              "       [ 0.48959165,  0.18556848],\n",
              "       [-2.97122622, -1.67515888],\n",
              "       [ 0.56923681,  0.90023901],\n",
              "       [ 0.96991616,  0.36603869],\n",
              "       [ 0.37232934, -1.31659722],\n",
              "       [ 3.13291389,  1.97374029],\n",
              "       [ 1.57697817,  1.49525938],\n",
              "       [ 2.10410746,  0.45639327],\n",
              "       [-2.37531795, -2.04426174],\n",
              "       [ 0.46690187, -0.83235256],\n",
              "       [ 0.87123107,  0.77342021],\n",
              "       [ 1.78452439,  1.70892989],\n",
              "       [ 1.12999928,  0.6372315 ],\n",
              "       [ 0.25813425,  1.75760187],\n",
              "       [ 0.45373603, -0.53429248],\n",
              "       [-0.88720856, -1.71831447],\n",
              "       [ 0.44695249, -1.2973043 ],\n",
              "       [ 2.15569151,  1.84849172],\n",
              "       [-1.31299097, -0.88118978],\n",
              "       [ 0.31738506, -0.0051436 ],\n",
              "       [ 2.78232697,  1.56765052],\n",
              "       [ 0.34467994,  1.15718228],\n",
              "       [ 0.13997584, -1.37180007],\n",
              "       [-0.38865358, -0.62695041],\n",
              "       [ 0.89029624,  1.20897763],\n",
              "       [-2.11511254, -0.86908274],\n",
              "       [ 1.5387695 ,  0.94167265],\n",
              "       [-0.95519174,  0.07374208],\n",
              "       [ 0.88231316,  0.53292141],\n",
              "       [ 2.34989155,  0.82983393],\n",
              "       [-1.92049678, -0.3601322 ],\n",
              "       [-0.28771276,  0.61840581],\n",
              "       [-0.34590537, -0.81202517],\n",
              "       [-1.23513098,  0.32770838],\n",
              "       [-0.57727736,  0.86369698],\n",
              "       [ 4.07524173,  3.87231418],\n",
              "       [-0.0246932 , -0.27046913],\n",
              "       [ 0.6554559 , -1.1579469 ],\n",
              "       [ 0.22428044,  0.47511502],\n",
              "       [-2.27674156, -2.21301311],\n",
              "       [ 1.56550929,  0.80079804],\n",
              "       [-1.67498313, -1.03161099],\n",
              "       [ 0.68266059,  0.96418957],\n",
              "       [-0.55814376,  0.37795113],\n",
              "       [ 1.31538064,  0.75175666],\n",
              "       [ 1.25646613, -0.24844648],\n",
              "       [-0.60487791, -0.25296781],\n",
              "       [ 0.08698547, -0.12915511],\n",
              "       [ 2.55409335,  1.64080127],\n",
              "       [ 0.90386269,  0.03173979],\n",
              "       [ 0.10686402,  0.42287083],\n",
              "       [-3.24640717, -2.38805928],\n",
              "       [-0.40323226, -0.37737455],\n",
              "       [ 3.2409267 ,  2.5081654 ],\n",
              "       [-1.10515806,  1.20643229],\n",
              "       [ 0.20094702,  0.41021775],\n",
              "       [ 0.53466809, -0.56432358],\n",
              "       [-2.23027608, -1.10966512],\n",
              "       [-0.96107617, -1.5143413 ],\n",
              "       [-1.79025939, -2.57545546],\n",
              "       [-1.88053926,  0.37187123],\n",
              "       [ 1.89826613,  1.00638757],\n",
              "       [ 0.0374086 , -0.39375068],\n",
              "       [ 2.58249843,  2.07395204],\n",
              "       [ 1.59532925,  1.64344966],\n",
              "       [ 0.91619479,  2.01740789],\n",
              "       [ 1.44979347,  0.86140799],\n",
              "       [-0.86792765, -1.71167853],\n",
              "       [-0.91557067,  0.38324489],\n",
              "       [ 2.63085217,  2.20921401],\n",
              "       [-0.75608594,  0.06645754],\n",
              "       [ 2.6204059 ,  0.93666556],\n",
              "       [-0.999674  , -0.53103181],\n",
              "       [-0.56286459, -0.14842814],\n",
              "       [ 1.05013315,  1.01503023],\n",
              "       [-0.20227152, -0.7580392 ],\n",
              "       [-3.33399162, -2.20504575],\n",
              "       [ 1.73793553,  1.9084948 ],\n",
              "       [ 1.32007621,  1.69189622],\n",
              "       [-1.61599194, -1.95116491],\n",
              "       [-1.78998608, -1.05081104],\n",
              "       [-2.15682107, -0.0905424 ],\n",
              "       [ 0.72023986, -0.0708503 ],\n",
              "       [ 1.82987825,  0.74338212],\n",
              "       [-0.00922297,  0.27939293],\n",
              "       [-0.80286532,  0.06803952],\n",
              "       [-0.61419905,  0.74152877],\n",
              "       [-0.66292964,  1.76755237],\n",
              "       [-0.70397952, -1.26972915],\n",
              "       [ 1.60616933,  1.65937321],\n",
              "       [ 0.08523129,  0.66636215],\n",
              "       [-0.76698615, -0.6600266 ],\n",
              "       [ 2.04281648,  0.32239424],\n",
              "       [ 0.4026977 ,  1.033858  ],\n",
              "       [ 0.14722278, -0.93156872],\n",
              "       [-0.44855425, -0.02652421],\n",
              "       [ 1.42527202,  1.24195973],\n",
              "       [ 0.36776686, -0.67303964]])"
            ]
          },
          "metadata": {},
          "execution_count": 4
        }
      ]
    },
    {
      "cell_type": "markdown",
      "source": [
        "Normalizamos a través de Standard Scaler."
      ],
      "metadata": {
        "id": "xcnl9EGvCpbf"
      }
    },
    {
      "cell_type": "code",
      "source": [
        "scaler = StandardScaler()\n",
        "X_scaled = scaler.fit_transform(X)"
      ],
      "metadata": {
        "id": "KWXDwhffiF7u"
      },
      "execution_count": null,
      "outputs": []
    },
    {
      "cell_type": "markdown",
      "source": [
        "Ahora aplicaremos PCA en 2 componentes."
      ],
      "metadata": {
        "id": "xh2nABMNCsBG"
      }
    },
    {
      "cell_type": "code",
      "source": [
        "pca = PCA(n_components=2)"
      ],
      "metadata": {
        "id": "_fbdTwhfiIRb"
      },
      "execution_count": null,
      "outputs": []
    },
    {
      "cell_type": "markdown",
      "source": [
        "Encontrar la cantidad optima de componentes muchas veces se hace a través de prueba y error y en otras veces toca hacerlo dependiendo de lo que quiero utilizar (por ej. en el caso de visualizacion 2 o 3)."
      ],
      "metadata": {
        "id": "jdgd3lx_Cufw"
      }
    },
    {
      "cell_type": "code",
      "source": [
        "X_pca = pca.fit_transform(X_scaled)"
      ],
      "metadata": {
        "id": "H3jyboVEisvL"
      },
      "execution_count": null,
      "outputs": []
    },
    {
      "cell_type": "code",
      "source": [
        "X_pca"
      ],
      "metadata": {
        "colab": {
          "base_uri": "https://localhost:8080/"
        },
        "id": "ztIeOmcRi0v9",
        "outputId": "094bb056-e10d-4a84-8e69-f602f72e6a80"
      },
      "execution_count": null,
      "outputs": [
        {
          "output_type": "execute_result",
          "data": {
            "text/plain": [
              "array([[-9.70946359e-01,  6.71307474e-02],\n",
              "       [-1.02113974e+00, -7.58831849e-01],\n",
              "       [ 1.54570075e-01,  1.36103364e-01],\n",
              "       [-2.55314908e+00, -4.12674767e-01],\n",
              "       [ 6.06646010e-01, -2.41029518e-01],\n",
              "       [ 4.85250413e-01,  2.57390027e-01],\n",
              "       [-7.72056430e-01,  9.52390523e-01],\n",
              "       [ 2.43558125e+00,  3.42357345e-01],\n",
              "       [ 1.42596037e+00, -1.12097797e-01],\n",
              "       [ 1.07128347e+00,  7.38587620e-01],\n",
              "       [-2.48691461e+00,  8.18176618e-02],\n",
              "       [-4.46635256e-01,  7.15958478e-01],\n",
              "       [ 6.75156678e-01, -2.53751382e-02],\n",
              "       [ 1.64756435e+00, -1.38408718e-01],\n",
              "       [ 7.17894528e-01,  1.75378007e-01],\n",
              "       [ 9.57663225e-01, -8.84782349e-01],\n",
              "       [-2.79914857e-01,  5.36849535e-01],\n",
              "       [-1.59769462e+00,  5.92851708e-01],\n",
              "       [-7.25755198e-01,  9.76306821e-01],\n",
              "       [ 1.90315590e+00, -4.47461888e-02],\n",
              "       [-1.31237292e+00, -9.31149597e-02],\n",
              "       [-3.70883220e-02,  1.65721943e-01],\n",
              "       [ 2.03505048e+00,  4.12999236e-01],\n",
              "       [ 6.50057725e-01, -4.95740664e-01],\n",
              "       [-9.13399346e-01,  8.75097674e-01],\n",
              "       [-7.29997044e-01,  1.94275300e-01],\n",
              "       [ 9.36807985e-01, -2.69086845e-01],\n",
              "       [-1.68273209e+00, -4.77521525e-01],\n",
              "       [ 1.08682965e+00,  1.91080036e-01],\n",
              "       [-5.90047143e-01, -4.78765345e-01],\n",
              "       [ 5.40849154e-01,  1.19360207e-01],\n",
              "       [ 1.40356566e+00,  6.37578855e-01],\n",
              "       [-1.29590977e+00, -6.81217853e-01],\n",
              "       [ 3.99666982e-02, -4.80706989e-01],\n",
              "       [-8.17252924e-01,  3.21755613e-01],\n",
              "       [-5.74418814e-01, -7.57805796e-01],\n",
              "       [ 4.60337458e-02, -7.59243252e-01],\n",
              "       [ 3.98035504e+00, -3.15721973e-01],\n",
              "       [-3.51953867e-01,  1.58704931e-01],\n",
              "       [-5.46812417e-01,  9.93557773e-01],\n",
              "       [ 1.97721910e-01, -1.56696171e-01],\n",
              "       [-2.53843465e+00,  2.26094309e-01],\n",
              "       [ 1.01768411e+00,  2.85386686e-01],\n",
              "       [-1.56994771e+00, -1.76160951e-01],\n",
              "       [ 6.97109600e-01, -2.24765666e-01],\n",
              "       [-2.26761763e-01, -4.68443759e-01],\n",
              "       [ 8.71552808e-01,  1.96156496e-01],\n",
              "       [ 2.63583185e-01,  7.48689822e-01],\n",
              "       [-6.14766571e-01, -1.24413992e-01],\n",
              "       [-2.17430175e-01,  1.29266590e-01],\n",
              "       [ 1.97010813e+00,  2.63182472e-01],\n",
              "       [ 2.60235481e-01,  4.20251164e-01],\n",
              "       [ 1.12171113e-01, -1.81629743e-01],\n",
              "       [-3.09619395e+00, -1.28564653e-01],\n",
              "       [-5.92068689e-01,  4.26289675e-02],\n",
              "       [ 2.79643719e+00,  8.31373337e-02],\n",
              "       [-3.49174964e-03, -1.20643331e+00],\n",
              "       [ 1.49094893e-01, -1.30025011e-01],\n",
              "       [-2.59259921e-01,  5.92348572e-01],\n",
              "       [-1.87648426e+00, -3.92133841e-01],\n",
              "       [-1.51411622e+00,  4.39766713e-01],\n",
              "       [-2.51981908e+00,  6.65239867e-01],\n",
              "       [-8.52450717e-01, -1.08707840e+00],\n",
              "       [ 1.29350924e+00,  3.22673019e-01],\n",
              "       [-3.94255930e-01,  2.59442412e-01],\n",
              "       [ 2.23475750e+00,  2.52611918e-02],\n",
              "       [ 1.52056438e+00, -1.89434129e-01],\n",
              "       [ 1.41799033e+00, -7.25899652e-01],\n",
              "       [ 9.98403902e-01,  1.95782740e-01],\n",
              "       [-1.58477359e+00,  5.98073272e-01],\n",
              "       [-3.91853200e-01, -6.39677380e-01],\n",
              "       [ 2.33597703e+00, -3.04593130e-02],\n",
              "       [-5.00597678e-01, -3.80863862e-01],\n",
              "       [ 1.59281412e+00,  7.02874061e-01],\n",
              "       [-9.61824865e-01, -1.48843728e-01],\n",
              "       [-5.34353135e-01, -1.65294507e-01],\n",
              "       [ 8.99492790e-01, -8.13712294e-02],\n",
              "       [-7.18356866e-01,  3.58013513e-01],\n",
              "       [-3.03122846e+00, -2.75943767e-01],\n",
              "       [ 1.74141950e+00, -2.76102199e-01],\n",
              "       [ 1.41916856e+00, -3.47040900e-01],\n",
              "       [-2.07565764e+00,  3.85057432e-01],\n",
              "       [-1.63519300e+00, -2.19129044e-01],\n",
              "       [-1.25069772e+00, -9.48802023e-01],\n",
              "       [ 1.14328492e-01,  3.93376097e-01],\n",
              "       [ 1.10875575e+00,  4.43076141e-01],\n",
              "       [-2.56819465e-02, -1.53010097e-01],\n",
              "       [-5.21688718e-01, -4.03790429e-01],\n",
              "       [-4.22110867e-02, -7.05740314e-01],\n",
              "       [ 5.30092893e-01, -1.32389792e+00],\n",
              "       [-1.25124943e+00,  4.18818040e-01],\n",
              "       [ 1.53490221e+00, -1.93571866e-01],\n",
              "       [ 2.43250832e-01, -3.33065025e-01],\n",
              "       [-9.27183893e-01,  3.54656737e-02],\n",
              "       [ 9.64709891e-01,  7.87488729e-01],\n",
              "       [ 6.05809405e-01, -3.96899851e-01],\n",
              "       [-6.54596785e-01,  6.23114210e-01],\n",
              "       [-4.09851736e-01, -1.82234241e-01],\n",
              "       [ 1.20763788e+00, -3.65249949e-02],\n",
              "       [-4.00853600e-01,  5.76894574e-01]])"
            ]
          },
          "metadata": {},
          "execution_count": 10
        }
      ]
    },
    {
      "cell_type": "markdown",
      "source": [
        "Notemos que cada valor está representado en estas variables nuevas, las componentes."
      ],
      "metadata": {
        "id": "xqwkFpBsC0xs"
      }
    },
    {
      "cell_type": "code",
      "source": [
        "components = pca.components_"
      ],
      "metadata": {
        "id": "IPwAUlQtlxeK"
      },
      "execution_count": null,
      "outputs": []
    },
    {
      "cell_type": "code",
      "source": [
        "components"
      ],
      "metadata": {
        "colab": {
          "base_uri": "https://localhost:8080/"
        },
        "id": "e9qRznNwlz8z",
        "outputId": "c7f4904c-b8c6-4fbc-d88c-3115ddd6a43d"
      },
      "execution_count": null,
      "outputs": [
        {
          "output_type": "execute_result",
          "data": {
            "text/plain": [
              "array([[ 0.70710678,  0.70710678],\n",
              "       [ 0.70710678, -0.70710678]])"
            ]
          },
          "metadata": {},
          "execution_count": 12
        }
      ]
    },
    {
      "cell_type": "code",
      "source": [
        "explained_variance = pca.explained_variance_ratio_"
      ],
      "metadata": {
        "id": "TpjnayX3l021"
      },
      "execution_count": null,
      "outputs": []
    },
    {
      "cell_type": "code",
      "source": [
        "explained_variance"
      ],
      "metadata": {
        "colab": {
          "base_uri": "https://localhost:8080/"
        },
        "id": "_1GCabItl3Mi",
        "outputId": "7c1b4b84-11aa-4852-a963-240b25b127a1"
      },
      "execution_count": null,
      "outputs": [
        {
          "output_type": "execute_result",
          "data": {
            "text/plain": [
              "array([0.87851892, 0.12148108])"
            ]
          },
          "metadata": {},
          "execution_count": 14
        }
      ]
    },
    {
      "cell_type": "markdown",
      "source": [
        "Esto nos quiere decir que la primera variable representa el 87% de los datos originales y la otra variable un 12% de los datos originales,"
      ],
      "metadata": {
        "id": "tCTCAlJWC4z8"
      }
    },
    {
      "cell_type": "markdown",
      "source": [
        "Procedamos a graficar los datos normalizados y a dibujar los vectores de las componentes principales."
      ],
      "metadata": {
        "id": "zbJY04WgC9Sj"
      }
    },
    {
      "cell_type": "code",
      "source": [
        "plt.figure(figsize=(8,6))\n",
        "plt.scatter(X_scaled[:,0], X_scaled[:,1], alpha=0.5, label='Datos estandarizados')\n",
        "origin = np.mean(X_scaled, axis=0)\n",
        "\n",
        "for i in range(2):\n",
        "    plt.quiver(*origin, components[i,0],components[i,1],\n",
        "               angles='xy',scale_units='xy',scale=1.5,color='r',\n",
        "               label=f'PC{i+1}({explained_variance[i]*100:.1f}%)')\n",
        "\n",
        "plt.title('Proyeccion PCA en 2D')\n",
        "plt.xlabel('Eje 1 (Original)')\n",
        "plt.ylabel('Eje 2 (Original)')\n",
        "plt.axis('equal')\n",
        "plt.grid(True)\n",
        "plt.legend()\n",
        "plt.tight_layout()"
      ],
      "metadata": {
        "colab": {
          "base_uri": "https://localhost:8080/",
          "height": 500
        },
        "id": "s4169FKfl4pr",
        "outputId": "60da1dc1-0a6c-449e-a658-6a603fe7b27a"
      },
      "execution_count": null,
      "outputs": [
        {
          "output_type": "display_data",
          "data": {
            "text/plain": [
              "<Figure size 800x600 with 1 Axes>"
            ],
            "image/png": "[encoded data removed]"
          },
          "metadata": {}
        }
      ]
    }
  ]
}