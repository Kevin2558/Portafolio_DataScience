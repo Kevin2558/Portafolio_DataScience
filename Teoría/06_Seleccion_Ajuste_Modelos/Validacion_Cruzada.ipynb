{
  "nbformat": 4,
  "nbformat_minor": 0,
  "metadata": {
    "colab": {
      "provenance": []
    },
    "kernelspec": {
      "name": "python3",
      "display_name": "Python 3"
    },
    "language_info": {
      "name": "python"
    }
  },
  "cells": [
    {
      "cell_type": "markdown",
      "source": [
        "# **Validación Cruzada (Cross-Validation)**\n",
        "La validación cruzada (cross-validation) es una técnica utilizada para evaluar el rendimiento de un modelo de manera más robusta. Esta metodología no solo divide los datos en train/test una vez, sino que se realizan múltiples particiones para asegurar que todas las observaciones participen en el entrenamiento y en la validación.\n",
        "\n",
        "Entonces, en lugar de entrenar el modelo una sola vez y evaluarlo sobre un test fijo, la validación cruzada divide los datos en múltiples subconjuntos (llamados folds) y realiza varios entrenamientos y evaluaciones.\n",
        "\n",
        "Hay varias estrategias para realizar las particiones:\n",
        "- KFold: División estándar en k partes.\n",
        "- StratifiedKFold: Clasificación con clases desbalanceadas.\n",
        "- TimeSeriesSplit: Modelos con series temporales.\n",
        "- LeaveOneOut: Máxima granularidad, una observación por fold.\n",
        "\n",
        "La metodología detras de este método (con KFold) viene dada por los siguientes pasos:\n",
        "\n",
        "1. Se divide el dataset en k partes o folds del mismo tamaño.\n",
        "2. Se repite el entrenamiento del modelo k veces:\n",
        " - En cada iteración se usa un fold diferente como conjunto de validación.\n",
        " - Los k-1 folds restantes se usan como entrenamiento.\n",
        "3. Se calcula la métrica de interés en cada fold.\n",
        "4. Se obtiene el promedio de las k métricas y así se obtiene el rendimiento final del modelo.\n",
        "\n",
        "Entre sus ventajas destaca una mayor fiabilidad en comparació a realizar una única divisón train/test, reduce la varianza de la estimación de desempeño y ayuda a detectar overfitting y underfitting.\n",
        "\n",
        "Se recomiendo realizar una validación cruzada antes de hacer GridSearchCV o RandomizedSearchCV y también para comparar modelos entre sí.\n"
      ],
      "metadata": {
        "id": "HFubSXnvpCje"
      }
    },
    {
      "cell_type": "markdown",
      "source": [
        "Realicemos un ejemplo para visualizar la metodología"
      ],
      "metadata": {
        "id": "xuq3_rLcHyP2"
      }
    },
    {
      "cell_type": "code",
      "execution_count": null,
      "metadata": {
        "id": "ePr7B3dvorbp"
      },
      "outputs": [],
      "source": [
        "from sklearn.datasets import load_iris\n",
        "from sklearn.model_selection import cross_val_score\n",
        "from sklearn.ensemble import RandomForestClassifier\n",
        "import numpy as np"
      ]
    },
    {
      "cell_type": "markdown",
      "source": [
        "Dataset"
      ],
      "metadata": {
        "id": "4QTCN25GH6__"
      }
    },
    {
      "cell_type": "code",
      "source": [
        "X, y = load_iris(return_X_y=True)"
      ],
      "metadata": {
        "id": "NGbtmGLkH6G8"
      },
      "execution_count": null,
      "outputs": []
    },
    {
      "cell_type": "markdown",
      "source": [
        "Modelo"
      ],
      "metadata": {
        "id": "hNSniD00H_wG"
      }
    },
    {
      "cell_type": "code",
      "source": [
        "model = RandomForestClassifier(random_state=42)"
      ],
      "metadata": {
        "id": "vztv2FU5H-__"
      },
      "execution_count": null,
      "outputs": []
    },
    {
      "cell_type": "markdown",
      "source": [
        "Evaluación usando validación cruzada (k=5)"
      ],
      "metadata": {
        "id": "3kaeGTnkICpv"
      }
    },
    {
      "cell_type": "code",
      "source": [
        "scores = cross_val_score(model, X, y, cv=5, scoring='accuracy')"
      ],
      "metadata": {
        "id": "K_5ynNFyICF6"
      },
      "execution_count": null,
      "outputs": []
    },
    {
      "cell_type": "markdown",
      "source": [
        "Métricas"
      ],
      "metadata": {
        "id": "qpFVn3A8IJJs"
      }
    },
    {
      "cell_type": "code",
      "source": [
        "print(\"Accuracy en cada fold:\", scores)\n",
        "print(\"Promedio:\", np.mean(scores))\n",
        "print(\"Desviación estándar:\", np.std(scores))"
      ],
      "metadata": {
        "colab": {
          "base_uri": "https://localhost:8080/"
        },
        "id": "9QO0VLAYIIaH",
        "outputId": "d4e8fa64-de7c-47b7-b625-8f7821fef13b"
      },
      "execution_count": null,
      "outputs": [
        {
          "output_type": "stream",
          "name": "stdout",
          "text": [
            "Accuracy en cada fold: [0.96666667 0.96666667 0.93333333 0.96666667 1.        ]\n",
            "Promedio: 0.9666666666666668\n",
            "Desviación estándar: 0.02108185106778919\n"
          ]
        }
      ]
    },
    {
      "cell_type": "markdown",
      "source": [
        "Ahora, veamos un ejemplo pero con 2 métricas"
      ],
      "metadata": {
        "id": "fB5HlK87IWua"
      }
    },
    {
      "cell_type": "code",
      "source": [
        "from sklearn.model_selection import cross_validate\n",
        "from sklearn.linear_model import LogisticRegression"
      ],
      "metadata": {
        "id": "GPUP1oS6IMVd"
      },
      "execution_count": null,
      "outputs": []
    },
    {
      "cell_type": "markdown",
      "source": [
        "Modelo"
      ],
      "metadata": {
        "id": "YB4UuwSNIduM"
      }
    },
    {
      "cell_type": "code",
      "source": [
        "model = LogisticRegression(max_iter=1000)"
      ],
      "metadata": {
        "id": "ve0kh3DwIbA_"
      },
      "execution_count": null,
      "outputs": []
    },
    {
      "cell_type": "markdown",
      "source": [
        "Evalua múltiples métricas"
      ],
      "metadata": {
        "id": "ovri_B1dIfLw"
      }
    },
    {
      "cell_type": "code",
      "source": [
        "results = cross_validate(\n",
        "    model, X, y,\n",
        "    cv=5,\n",
        "    scoring=['accuracy', 'f1_macro'],\n",
        "    return_train_score=True\n",
        ")"
      ],
      "metadata": {
        "id": "s2jkq0gQIhw4"
      },
      "execution_count": null,
      "outputs": []
    },
    {
      "cell_type": "markdown",
      "source": [
        "Resultados"
      ],
      "metadata": {
        "id": "o4GuaOEqIjzA"
      }
    },
    {
      "cell_type": "code",
      "source": [
        "print(\"Accuracy promedio:\", np.mean(results['test_accuracy']))\n",
        "print(\"F1-macro promedio:\", np.mean(results['test_f1_macro']))"
      ],
      "metadata": {
        "colab": {
          "base_uri": "https://localhost:8080/"
        },
        "id": "mVn2vdlqIjKS",
        "outputId": "30ef06c8-390d-4ba1-c968-c7a1a928b914"
      },
      "execution_count": null,
      "outputs": [
        {
          "output_type": "stream",
          "name": "stdout",
          "text": [
            "Accuracy promedio: 0.9666666666666668\n",
            "F1-macro promedio: 0.9664818612187034\n"
          ]
        }
      ]
    }
  ]
}