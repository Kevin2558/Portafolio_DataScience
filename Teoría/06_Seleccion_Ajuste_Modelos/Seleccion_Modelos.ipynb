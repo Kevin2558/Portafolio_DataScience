{
  "nbformat": 4,
  "nbformat_minor": 0,
  "metadata": {
    "colab": {
      "provenance": []
    },
    "kernelspec": {
      "name": "python3",
      "display_name": "Python 3"
    },
    "language_info": {
      "name": "python"
    }
  },
  "cells": [
    {
      "cell_type": "markdown",
      "source": [
        "# **Selección de modelos basado en métricas**\n",
        "\n",
        "Proceso de comparar el rendimiento de distintos modelos o configuraciones de un mismo modelo, evaluándolos según una o más métricas (accuracy, F1-score, AUC, etc.) y eligiendo el que mejor se adapta al objetivo del problema.\n",
        "\n",
        "La metodología detras de este proceso responde a los siguientes pasos:\n",
        "1. Entrenar múltiples modelos (o el mismo modelo con distintos hiperparámetros).\n",
        "2. Evaluar cada uno sobre un conjunto de validación o usando validación cruzada.\n",
        "3. Compara los resultados según una métrica adecuada al problema:\n",
        "  - Clasificación balanceada: F1-score\n",
        "  - Desbalanceo: AUC-ROC o Recall\n",
        "  - Regresión: MSE, RMSE, MAE\n",
        "4. Seleccionar el modelo que maximiza o minimiza dicha métrica, según corresponda.\n",
        "\n",
        "La importancia de esta metodología es preocuparse de ver todas las métricas ya que, por ejemplo, accuracy no siempre es la mejor métrica.\n"
      ],
      "metadata": {
        "id": "_kwi13JZbnwT"
      }
    },
    {
      "cell_type": "markdown",
      "source": [
        "Realicemos un ejemplo de clasificación para ver como se lleva a cabo esta metodología."
      ],
      "metadata": {
        "id": "-YM0JRxGdhuc"
      }
    },
    {
      "cell_type": "code",
      "execution_count": null,
      "metadata": {
        "id": "_eTU9DitbnE-"
      },
      "outputs": [],
      "source": [
        "from sklearn.datasets import load_breast_cancer\n",
        "from sklearn.model_selection import cross_val_score, train_test_split\n",
        "from sklearn.linear_model import LogisticRegression\n",
        "from sklearn.ensemble import RandomForestClassifier\n",
        "from sklearn.svm import SVC\n",
        "from sklearn.metrics import roc_auc_score, accuracy_score"
      ]
    },
    {
      "cell_type": "markdown",
      "source": [
        "Dataset"
      ],
      "metadata": {
        "id": "B_BF9mGgduoR"
      }
    },
    {
      "cell_type": "code",
      "source": [
        "X, y = load_breast_cancer(return_X_y=True)\n",
        "X_train, X_test, y_train, y_test = train_test_split(X, y, test_size=0.2, random_state=42)"
      ],
      "metadata": {
        "id": "3SPyqYNaduW8"
      },
      "execution_count": null,
      "outputs": []
    },
    {
      "cell_type": "markdown",
      "source": [
        "Modelos a comparar"
      ],
      "metadata": {
        "id": "_kwd_vB6dyMd"
      }
    },
    {
      "cell_type": "code",
      "source": [
        "models = {\n",
        "    \"Logistic Regression\": LogisticRegression(max_iter=5000),\n",
        "    \"Random Forest\": RandomForestClassifier(),\n",
        "    \"SVM\": SVC(probability=True)\n",
        "}"
      ],
      "metadata": {
        "id": "axEvsIaRdxPr"
      },
      "execution_count": null,
      "outputs": []
    },
    {
      "cell_type": "markdown",
      "source": [
        "Evaluamos los modelos usando las métricas AUC-ROC y accuracy"
      ],
      "metadata": {
        "id": "8IBcjbaEd1iE"
      }
    },
    {
      "cell_type": "code",
      "source": [
        "for name, model in models.items():\n",
        "    model.fit(X_train, y_train)\n",
        "    y_pred_proba = model.predict_proba(X_test)[:, 1]\n",
        "    auc = roc_auc_score(y_test, y_pred_proba)\n",
        "    acc = accuracy_score(y_test, model.predict(X_test))\n",
        "    print(f\"{name}: AUC = {auc:.4f} | Accuracy = {acc:.4f}\")"
      ],
      "metadata": {
        "colab": {
          "base_uri": "https://localhost:8080/"
        },
        "id": "CJslqbhAd0nl",
        "outputId": "7d4a1105-e2a3-40c0-9270-a663a1fd0229"
      },
      "execution_count": null,
      "outputs": [
        {
          "output_type": "stream",
          "name": "stdout",
          "text": [
            "Logistic Regression: AUC = 0.9977 | Accuracy = 0.9561\n",
            "Random Forest: AUC = 0.9966 | Accuracy = 0.9649\n",
            "SVM: AUC = 0.9934 | Accuracy = 0.9474\n"
          ]
        }
      ]
    }
  ]
}